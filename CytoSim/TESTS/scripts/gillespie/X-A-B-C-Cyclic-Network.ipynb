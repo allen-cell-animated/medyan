{
 "metadata": {
  "name": "X-A-B-C-Cyclic-Network"
 },
 "nbformat": 3,
 "nbformat_minor": 0,
 "worksheets": [
  {
   "cells": [
    {
     "cell_type": "heading",
     "level": 1,
     "metadata": {},
     "source": [
      "The script below computes evolution of probability distribution for the following reaction network:"
     ]
    },
    {
     "cell_type": "raw",
     "metadata": {},
     "source": [
      "\n",
      "      /* B\n",
      "X<->A/   |\n",
      "     *\\  |\n",
      "       \\C*"
     ]
    },
    {
     "cell_type": "code",
     "collapsed": false,
     "input": [
      "from scipy import *\n",
      "from scipy import linalg\n",
      "from scipy import sparse"
     ],
     "language": "python",
     "metadata": {},
     "outputs": [],
     "prompt_number": 72
    },
    {
     "cell_type": "code",
     "collapsed": false,
     "input": [
      "Nq=3 # The number of \"quanta\" allowed in this network (equal to the sum of initial occupancies)\n",
      "Nx=Nq+1 # The number of states for the molecule X\n",
      "Nc=2**3 # The number of states in the cycle A->B->C->A...\n",
      "t=0.5 # time elapsed in seconds\n",
      "kab=4.5 # s^-1\n",
      "kbc=2.5 # s^-1\n",
      "kca=0.5 # s^-1\n",
      "kxa=0.8 # s^-1\n",
      "kax=0.3 # s^-1"
     ],
     "language": "python",
     "metadata": {},
     "outputs": [],
     "prompt_number": 210
    },
    {
     "cell_type": "code",
     "collapsed": false,
     "input": [
      "# Defining an outer product state space\n",
      "# 8=2**3 (becuase A, B, and C are 2-state)\n",
      "def xabc_index(x,a,b,c):\n",
      "    if(x<0 or x>Nq or a<0 or a>1 or b<0 or b>1 or c<0 or c>1): \n",
      "        raise IndexError(\"One of indices is out of range in xabc_index(a,b,c,x)\")\n",
      "    return 8*x+4*a+2*b+c"
     ],
     "language": "python",
     "metadata": {},
     "outputs": [],
     "prompt_number": 211
    },
    {
     "cell_type": "code",
     "collapsed": false,
     "input": [
      "xabc_index(0,0,0,0), xabc_index(3,1,1,1)"
     ],
     "language": "python",
     "metadata": {},
     "outputs": [
      {
       "latex": [
        "$$\\begin{pmatrix}0, & 31\\end{pmatrix}$$"
       ],
       "output_type": "pyout",
       "prompt_number": 214,
       "text": [
        "(0, 31)"
       ]
      }
     ],
     "prompt_number": 214
    },
    {
     "cell_type": "code",
     "collapsed": false,
     "input": [
      "# This is based on the master equation of this system (my notes)\n",
      "R=zeros([8*Nx,8*Nx])\n",
      "for x in r_[0:Nx]:\n",
      "    for a in [0,1]:\n",
      "        for b in [0,1]:\n",
      "            for c in [0,1]:\n",
      "                if((x+a+b+c)>Nq):\n",
      "                   continue\n",
      "                i=xabc_index(x,a,b,c)\n",
      "                # X->A, Part 1\n",
      "                if(a==0):\n",
      "                    R[i,i]+=-kxa*x\n",
      "                # X->A, Part II\n",
      "                if(x!=Nq and a==1):\n",
      "                    j=xabc_index(x+1,a-1,b,c)\n",
      "                    R[i,j]+=kxa*(x+1)\n",
      "                # A->X Part I\n",
      "                if(a==1):\n",
      "                    R[i,i]+=-kax\n",
      "                # A->X, Part II\n",
      "                if(x!=0 and a==0):\n",
      "                    j=xabc_index(x-1,a+1,b,c)\n",
      "                    R[i,j]+=kax\n",
      "                # A->B, Part I\n",
      "                if(a==1 and b==0):\n",
      "                    R[i,i]+=-kab\n",
      "                # A->B, Part II\n",
      "                if(a==0 and b==1):\n",
      "                    j=xabc_index(x,a+1,b-1,c)\n",
      "                    R[i,j]+=kab\n",
      "                # B->C, Part I\n",
      "                if(b==1 and c==0):\n",
      "                    R[i,i]+=-kbc\n",
      "                # B->C, Part II\n",
      "                if(b==0 and c==1):\n",
      "                    j=xabc_index(x,a,b+1,c-1)\n",
      "                    R[i,j]+=kbc\n",
      "                # C->A, Part I\n",
      "                if(c==1 and a==0):\n",
      "                    R[i,i]+=-kca\n",
      "                # C>A, Part II\n",
      "                if(c==0 and a==1):\n",
      "                    j=xabc_index(x,a-1,b,c+1)\n",
      "                    R[i,j]+=kca              \n",
      "print R[0:12,0:12]"
     ],
     "language": "python",
     "metadata": {},
     "outputs": [
      {
       "output_type": "stream",
       "stream": "stdout",
       "text": [
        "[[ 0.   0.   0.   0.   0.   0.   0.   0.   0.   0.   0.   0. ]\n",
        " [ 0.  -0.5  2.5  0.   0.   0.   0.   0.   0.   0.   0.   0. ]\n",
        " [ 0.   0.  -2.5  0.   4.5  0.   0.   0.   0.   0.   0.   0. ]\n",
        " [ 0.   0.   0.  -0.5  0.   4.5  0.   0.   0.   0.   0.   0. ]\n",
        " [ 0.   0.5  0.   0.  -4.8  0.   0.   0.   0.8  0.   0.   0. ]\n",
        " [ 0.   0.   0.   0.   0.  -4.8  2.5  0.   0.   0.8  0.   0. ]\n",
        " [ 0.   0.   0.   0.5  0.   0.  -2.8  0.   0.   0.   0.8  0. ]\n",
        " [ 0.   0.   0.   0.   0.   0.   0.  -0.3  0.   0.   0.   0.8]\n",
        " [ 0.   0.   0.   0.   0.3  0.   0.   0.  -0.8  0.   0.   0. ]\n",
        " [ 0.   0.   0.   0.   0.   0.3  0.   0.   0.  -1.3  2.5  0. ]\n",
        " [ 0.   0.   0.   0.   0.   0.   0.3  0.   0.   0.  -3.3  0. ]\n",
        " [ 0.   0.   0.   0.   0.   0.   0.   0.3  0.   0.   0.  -1.3]]\n"
       ]
      }
     ],
     "prompt_number": 258
    },
    {
     "cell_type": "code",
     "collapsed": false,
     "input": [
      "print sum(sum(R,axis=0))"
     ],
     "language": "python",
     "metadata": {},
     "outputs": [
      {
       "output_type": "stream",
       "stream": "stdout",
       "text": [
        "1.16573417586e-15\n"
       ]
      }
     ],
     "prompt_number": 259
    },
    {
     "cell_type": "code",
     "collapsed": false,
     "input": [
      "ONES=mat(ones(8*Nx))\n",
      "print ONES, ONES.shape"
     ],
     "language": "python",
     "metadata": {},
     "outputs": [
      {
       "output_type": "stream",
       "stream": "stdout",
       "text": [
        "[[ 1.  1.  1.  1.  1.  1.  1.  1.  1.  1.  1.  1.  1.  1.  1.  1.  1.  1.\n",
        "   1.  1.  1.  1.  1.  1.  1.  1.  1.  1.  1.  1.  1.  1.]] (1, 32)\n"
       ]
      }
     ],
     "prompt_number": 260
    },
    {
     "cell_type": "code",
     "collapsed": false,
     "input": [
      "sum(ONES*R)"
     ],
     "language": "python",
     "metadata": {},
     "outputs": [
      {
       "output_type": "pyout",
       "prompt_number": 261,
       "text": [
        "1.1657341758564144e-15"
       ]
      }
     ],
     "prompt_number": 261
    },
    {
     "cell_type": "code",
     "collapsed": false,
     "input": [
      "T=linalg.expm2(R*t)"
     ],
     "language": "python",
     "metadata": {},
     "outputs": [],
     "prompt_number": 262
    },
    {
     "cell_type": "code",
     "collapsed": false,
     "input": [
      "print T[0:12,0:12]"
     ],
     "language": "python",
     "metadata": {},
     "outputs": [
      {
       "output_type": "stream",
       "stream": "stdout",
       "text": [
        "[[  1.00000000e+00   0.00000000e+00   0.00000000e+00   0.00000000e+00\n",
        "    0.00000000e+00   0.00000000e+00   0.00000000e+00   0.00000000e+00\n",
        "    0.00000000e+00   0.00000000e+00   0.00000000e+00   0.00000000e+00]\n",
        " [  0.00000000e+00   8.23858086e-01   6.28521703e-01  -8.97351414e-17\n",
        "    4.28028777e-01  -9.93132100e-17   4.67170942e-16   4.39860031e-17\n",
        "    6.90916874e-02  -6.60283086e-16   8.72801679e-17  -5.77027427e-17]\n",
        " [  0.00000000e+00   8.56057554e-02   3.21040724e-01   4.56695826e-17\n",
        "    4.03420571e-01  -2.17915307e-16   1.07983445e-16  -2.98779597e-17\n",
        "    1.28678206e-01   5.01266648e-17  -4.86440542e-17   7.16573703e-17]\n",
        " [  0.00000000e+00   1.55054479e-16   2.46457839e-16   8.22546598e-01\n",
        "   -1.21063029e-16   7.44964961e-01   4.11732937e-01   1.93622966e-16\n",
        "    1.18058787e-15   1.70636671e-01   1.07988222e-01  -3.12082087e-17]\n",
        " [  0.00000000e+00   8.28715103e-02   4.75587530e-02  -3.33668776e-17\n",
        "    1.23426534e-01   8.88600017e-17   2.38235381e-17  -1.54462545e-17\n",
        "    1.20330979e-01   7.96752210e-17   6.19896451e-17  -3.27256624e-17]\n",
        " [  0.00000000e+00  -2.73258380e-18  -1.23654539e-16   4.57481041e-02\n",
        "    6.27855065e-17   1.22066970e-01   2.10627358e-01  -1.16153408e-16\n",
        "   -4.88934529e-17   1.07509734e-01   1.00802446e-01  -5.15876681e-17]\n",
        " [  0.00000000e+00   9.93800770e-17   4.88593263e-17   1.19000692e-01\n",
        "    6.10180083e-17   8.21991960e-02   2.85961680e-01   6.37517357e-17\n",
        "    8.23670871e-17   2.12293988e-02   9.72200556e-02   3.18027932e-17]\n",
        " [  0.00000000e+00  -1.89408914e-16   6.28037921e-16   5.49232063e-16\n",
        "    1.27907844e-15  -2.20118988e-15  -1.66430444e-15   8.82971312e-01\n",
        "   -4.83439469e-16   1.35247418e-15   3.68151098e-16   2.78016989e-01]\n",
        " [  0.00000000e+00   7.66464817e-03   2.87882031e-03   2.94267977e-17\n",
        "    4.51241173e-02   4.03571576e-17  -1.14067271e-17   3.48905782e-18\n",
        "    6.81899127e-01  -6.17230753e-18  -1.72037248e-17   5.24673452e-18]\n",
        " [  0.00000000e+00  -2.36057689e-16  -1.63380741e-16   5.66099703e-03\n",
        "    4.65095740e-17   4.07767483e-02   5.21983421e-02  -1.90260341e-16\n",
        "   -6.47397697e-17   5.64870953e-01   4.31787189e-01  -1.76689103e-16]\n",
        " [  0.00000000e+00  -2.70314311e-17  -6.38037792e-18   6.76141497e-03\n",
        "    2.13031050e-17   6.23882501e-03   3.59969228e-02   2.24369127e-17\n",
        "   -2.98860443e-17   6.50228225e-02   2.24048378e-01  -1.63017451e-17]\n",
        " [  0.00000000e+00   9.85911054e-17   1.62215029e-17   1.96344339e-17\n",
        "    5.13244496e-16   5.72760395e-17  -3.93197181e-16   1.04256371e-01\n",
        "   -1.36492655e-16  -1.89139309e-17  -2.64388279e-16   5.76159280e-01]]\n"
       ]
      }
     ],
     "prompt_number": 263
    },
    {
     "cell_type": "code",
     "collapsed": false,
     "input": [
      "p0=zeros(8*Nx)\n",
      "i=xabc_index(3,0,0,0)\n",
      "p0[i]=1\n",
      "p0=mat(p0)\n",
      "print p0, p0.shape"
     ],
     "language": "python",
     "metadata": {},
     "outputs": [
      {
       "output_type": "stream",
       "stream": "stdout",
       "text": [
        "[[ 0.  0.  0.  0.  0.  0.  0.  0.  0.  0.  0.  0.  0.  0.  0.  0.  0.  0.\n",
        "   0.  0.  0.  0.  0.  0.  1.  0.  0.  0.  0.  0.  0.  0.]] (1, 32)\n"
       ]
      }
     ],
     "prompt_number": 264
    },
    {
     "cell_type": "code",
     "collapsed": false,
     "input": [
      "pt=T*p0.T\n",
      "print pt, pt.shape"
     ],
     "language": "python",
     "metadata": {},
     "outputs": [
      {
       "output_type": "stream",
       "stream": "stdout",
       "text": [
        "[[  0.00000000e+00]\n",
        " [ -3.87865978e-16]\n",
        " [  3.72428067e-16]\n",
        " [ -6.67282026e-18]\n",
        " [ -8.42491537e-17]\n",
        " [  2.23855839e-16]\n",
        " [  3.55358433e-17]\n",
        " [  1.68732351e-03]\n",
        " [  9.84144777e-18]\n",
        " [ -1.18250376e-16]\n",
        " [ -1.18768095e-16]\n",
        " [  2.03270262e-02]\n",
        " [  9.99155896e-18]\n",
        " [  3.69035811e-02]\n",
        " [  6.54101778e-02]\n",
        " [  0.00000000e+00]\n",
        " [ -1.75637985e-17]\n",
        " [  1.12185339e-01]\n",
        " [  2.20241422e-01]\n",
        " [  0.00000000e+00]\n",
        " [  2.22723317e-01]\n",
        " [  0.00000000e+00]\n",
        " [  0.00000000e+00]\n",
        " [  0.00000000e+00]\n",
        " [  3.20521813e-01]\n",
        " [  0.00000000e+00]\n",
        " [  0.00000000e+00]\n",
        " [  0.00000000e+00]\n",
        " [  0.00000000e+00]\n",
        " [  0.00000000e+00]\n",
        " [  0.00000000e+00]\n",
        " [  0.00000000e+00]] (32, 1)\n"
       ]
      }
     ],
     "prompt_number": 265
    },
    {
     "cell_type": "code",
     "collapsed": false,
     "input": [
      "def find_p_x(x, pt):\n",
      "    ptx=0\n",
      "    for a in [0,1]:\n",
      "        for b in [0,1]:\n",
      "            for c in [0,1]:\n",
      "                if((x+a+b+c)!=(Nx-1)):\n",
      "                   continue\n",
      "                i=xabc_index(x,a,b,c)\n",
      "                #print \"find_p_x\", i\n",
      "                ptx+=pt[i,0]\n",
      "    return ptx\n",
      "\n",
      "def find_p_a(pt):\n",
      "    pta=0\n",
      "    a=1\n",
      "    for x in r_[0:Nx]:\n",
      "        for b in [0,1]:\n",
      "            for c in [0,1]:\n",
      "                if((x+a+b+c)!=(Nx-1)):\n",
      "                   continue\n",
      "                i=xabc_index(x,a,b,c)\n",
      "                #print \"find_p_x\", i\n",
      "                pta+=pt[i,0]\n",
      "    return pta\n",
      "\n",
      "def find_p_b(pt):\n",
      "    ptb=0\n",
      "    b=1\n",
      "    for x in r_[0:Nx]:\n",
      "        for a in [0,1]:\n",
      "            for c in [0,1]:\n",
      "                if((x+a+b+c)!=(Nx-1)):\n",
      "                   continue\n",
      "                i=xabc_index(x,a,b,c)\n",
      "                #print \"find_p_x\", i\n",
      "                ptb+=pt[i,0]\n",
      "    return ptb\n",
      "\n",
      "def find_p_c(pt):\n",
      "    ptc=0\n",
      "    c=1\n",
      "    for x in r_[0:Nx]:\n",
      "        for a in [0,1]:\n",
      "            for b in [0,1]:\n",
      "                if((x+a+b+c)!=(Nx-1)):\n",
      "                   continue\n",
      "                i=xabc_index(x,a,b,c)\n",
      "                #print \"find_p_x\", i\n",
      "                ptc+=pt[i,0]\n",
      "    return ptc\n"
     ],
     "language": "python",
     "metadata": {},
     "outputs": [],
     "prompt_number": 267
    },
    {
     "cell_type": "code",
     "collapsed": false,
     "input": [
      "ptx=[find_p_x(x,pt) for x in r_[0:Nx]] \n",
      "pa=find_p_a(pt)\n",
      "pb=find_p_b(pt)\n",
      "pc=find_p_c(pt)"
     ],
     "language": "python",
     "metadata": {},
     "outputs": [],
     "prompt_number": 270
    },
    {
     "cell_type": "code",
     "collapsed": false,
     "input": [
      "p_analyt=[]\n",
      "p_analyt.extend(ptx)\n",
      "p_analyt.extend([pa, pb, pc])\n",
      "print p_analyt"
     ],
     "language": "python",
     "metadata": {},
     "outputs": [
      {
       "output_type": "stream",
       "stream": "stdout",
       "text": [
        "[0.001687323512088279, 0.12264078507458409, 0.55515007879166167, 0.3205218126216664, 0.32672439967797662, 0.30766594955383336, 0.17110327024528463]\n"
       ]
      }
     ],
     "prompt_number": 271
    },
    {
     "cell_type": "code",
     "collapsed": false,
     "input": [],
     "language": "python",
     "metadata": {},
     "outputs": []
    }
   ],
   "metadata": {}
  }
 ]
}