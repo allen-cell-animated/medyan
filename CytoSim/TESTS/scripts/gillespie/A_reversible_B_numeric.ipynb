{
 "metadata": {
  "name": "A_reversible_B_numeric"
 },
 "nbformat": 3,
 "nbformat_minor": 0,
 "worksheets": [
  {
   "cells": [
    {
     "cell_type": "heading",
     "level": 2,
     "metadata": {},
     "source": [
      "Time-Dependent Probability Distribution for the A<->B Reaction"
     ]
    },
    {
     "cell_type": "markdown",
     "metadata": {},
     "source": [
      "We will use $p(t)=e^{R*t}p(0)$\\, to compute the time evolution of the copy numbers of A"
     ]
    },
    {
     "cell_type": "code",
     "collapsed": false,
     "input": [
      "from scipy import *\n",
      "from scipy import linalg"
     ],
     "language": "python",
     "metadata": {},
     "outputs": [],
     "prompt_number": 1
    },
    {
     "cell_type": "code",
     "collapsed": false,
     "input": [
      "N=10 # The number of states\n",
      "t=0.48 # time elapsed in seconds\n",
      "kf=2.5 # forward rate in s^-1\n",
      "kb=2.5 # backward rate in s^-1"
     ],
     "language": "python",
     "metadata": {},
     "outputs": [],
     "prompt_number": 2
    },
    {
     "cell_type": "code",
     "collapsed": false,
     "input": [
      "R=zeros([N+1,N+1])"
     ],
     "language": "python",
     "metadata": {},
     "outputs": [],
     "prompt_number": 3
    },
    {
     "cell_type": "code",
     "collapsed": false,
     "input": [
      "for n in r_[1:N]: \n",
      "    R[n,n]=-(kf*n+kb*(N-n))\n",
      "    R[n,n+1]=kf*(n+1)\n",
      "    R[n,n-1]=kb*(N-(n-1))\n",
      "R[0,0]=-kb*N\n",
      "R[10,10]=-kf*N\n",
      "R[0,1]=kf*1\n",
      "R[N-1,N]=kf*N\n",
      "R[N,N-1]=kb*1\n",
      "print R\n",
      "print sum(R,axis=0)"
     ],
     "language": "python",
     "metadata": {},
     "outputs": [
      {
       "output_type": "stream",
       "stream": "stdout",
       "text": [
        "[[-25.    2.5   0.    0.    0.    0.    0.    0.    0.    0.    0. ]\n",
        " [ 25.  -25.    5.    0.    0.    0.    0.    0.    0.    0.    0. ]\n",
        " [  0.   22.5 -25.    7.5   0.    0.    0.    0.    0.    0.    0. ]\n",
        " [  0.    0.   20.  -25.   10.    0.    0.    0.    0.    0.    0. ]\n",
        " [  0.    0.    0.   17.5 -25.   12.5   0.    0.    0.    0.    0. ]\n",
        " [  0.    0.    0.    0.   15.  -25.   15.    0.    0.    0.    0. ]\n",
        " [  0.    0.    0.    0.    0.   12.5 -25.   17.5   0.    0.    0. ]\n",
        " [  0.    0.    0.    0.    0.    0.   10.  -25.   20.    0.    0. ]\n",
        " [  0.    0.    0.    0.    0.    0.    0.    7.5 -25.   22.5   0. ]\n",
        " [  0.    0.    0.    0.    0.    0.    0.    0.    5.  -25.   25. ]\n",
        " [  0.    0.    0.    0.    0.    0.    0.    0.    0.    2.5 -25. ]]\n",
        "[ 0.  0.  0.  0.  0.  0.  0.  0.  0.  0.  0.]\n"
       ]
      }
     ],
     "prompt_number": 4
    },
    {
     "cell_type": "code",
     "collapsed": false,
     "input": [
      "ONES=ones(N+1)\n",
      "print ONES"
     ],
     "language": "python",
     "metadata": {},
     "outputs": [
      {
       "output_type": "stream",
       "stream": "stdout",
       "text": [
        "[ 1.  1.  1.  1.  1.  1.  1.  1.  1.  1.  1.]\n"
       ]
      }
     ],
     "prompt_number": 5
    },
    {
     "cell_type": "code",
     "collapsed": false,
     "input": [
      "dot(ONES,R)"
     ],
     "language": "python",
     "metadata": {},
     "outputs": [
      {
       "output_type": "pyout",
       "prompt_number": 6,
       "text": [
        "array([ 0.,  0.,  0.,  0.,  0.,  0.,  0.,  0.,  0.,  0.,  0.])"
       ]
      }
     ],
     "prompt_number": 6
    },
    {
     "cell_type": "code",
     "collapsed": false,
     "input": [
      "T=linalg.expm2(R*t)"
     ],
     "language": "python",
     "metadata": {},
     "outputs": [],
     "prompt_number": 7
    },
    {
     "cell_type": "code",
     "collapsed": false,
     "input": [
      "dot(ONES,T)"
     ],
     "language": "python",
     "metadata": {},
     "outputs": [
      {
       "output_type": "pyout",
       "prompt_number": 8,
       "text": [
        "array([ 1.,  1.,  1.,  1.,  1.,  1.,  1.,  1.,  1.,  1.,  1.])"
       ]
      }
     ],
     "prompt_number": 8
    },
    {
     "cell_type": "code",
     "collapsed": false,
     "input": [
      "p0=zeros(N+1)\n",
      "p0[0]=1\n",
      "print p0"
     ],
     "language": "python",
     "metadata": {},
     "outputs": [
      {
       "output_type": "stream",
       "stream": "stdout",
       "text": [
        "[ 1.  0.  0.  0.  0.  0.  0.  0.  0.  0.  0.]\n"
       ]
      }
     ],
     "prompt_number": 9
    },
    {
     "cell_type": "code",
     "collapsed": false,
     "input": [
      "pt=dot(T,p0)\n",
      "sum(pt)"
     ],
     "language": "python",
     "metadata": {},
     "outputs": [
      {
       "output_type": "pyout",
       "prompt_number": 10,
       "text": [
        "0.99999999999999711"
       ]
      }
     ],
     "prompt_number": 10
    },
    {
     "cell_type": "code",
     "collapsed": false,
     "input": [
      "print pt"
     ],
     "language": "python",
     "metadata": {},
     "outputs": [
      {
       "output_type": "stream",
       "stream": "stdout",
       "text": [
        "[ 0.00232715  0.01940041  0.07277957  0.16179473  0.23604161  0.23613261\n",
        "  0.1640442   0.0781464   0.02443017  0.00452585  0.0003773 ]\n"
       ]
      }
     ],
     "prompt_number": 11
    },
    {
     "cell_type": "markdown",
     "metadata": {},
     "source": [
      "**Analytical answer from the file: A_reversible_B_explicit_solved.mw**"
     ]
    },
    {
     "cell_type": "code",
     "collapsed": false,
     "input": [
      "p_analyt=array([0.002327151517,0.1940040583e-1, 0.7277956968e-1, .1617947293, .2360416130, .2361326132, .1640442006, 0.781464013e-1, 0.244301648e-1, 0.4525850e-2, 0.377291e-3])\n",
      "print p_analyt"
     ],
     "language": "python",
     "metadata": {},
     "outputs": [
      {
       "output_type": "stream",
       "stream": "stdout",
       "text": [
        "[ 0.00232715  0.01940041  0.07277957  0.16179473  0.23604161  0.23613261\n",
        "  0.1640442   0.0781464   0.02443016  0.00452585  0.00037729]\n"
       ]
      }
     ],
     "prompt_number": 14
    },
    {
     "cell_type": "code",
     "collapsed": false,
     "input": [
      "allclose(p_analyt,pt)"
     ],
     "language": "python",
     "metadata": {},
     "outputs": [
      {
       "output_type": "pyout",
       "prompt_number": 13,
       "text": [
        "True"
       ]
      }
     ],
     "prompt_number": 13
    },
    {
     "cell_type": "code",
     "collapsed": false,
     "input": [
      "for i in r_[0:N+1]: print \"P[\", i, \"] = \", pt[N-i]"
     ],
     "language": "python",
     "metadata": {},
     "outputs": [
      {
       "output_type": "stream",
       "stream": "stdout",
       "text": [
        "P[ 0 ] =  0.000377299479391\n",
        "P[ 1 ] =  0.00452584890933\n",
        "P[ 2 ] =  0.0244301655874\n",
        "P[ 3 ] =  0.0781464022211\n",
        "P[ 4 ] =  0.164044200964\n",
        "P[ 5 ] =  0.236132613555\n",
        "P[ 6 ] =  0.236041612807\n",
        "P[ 7 ] =  0.161794729459\n",
        "P[ 8 ] =  0.0727795696645\n",
        "P[ 9 ] =  0.0194004058362\n",
        "P[ 10 ] =  0.0023271515173\n"
       ]
      }
     ],
     "prompt_number": 17
    }
   ],
   "metadata": {}
  }
 ]
}