{
 "metadata": {
  "name": "A_B_C_Cycle"
 },
 "nbformat": 3,
 "nbformat_minor": 0,
 "worksheets": [
  {
   "cells": [
    {
     "cell_type": "code",
     "collapsed": false,
     "input": [
      "from scipy import *\n",
      "from scipy import linalg"
     ],
     "language": "python",
     "metadata": {},
     "outputs": [],
     "prompt_number": 1
    },
    {
     "cell_type": "code",
     "collapsed": false,
     "input": [
      "R = matrix([[-4.5, 0, 0.5], \n",
      "           [4.5, -2.5, 0], \n",
      "           [0,  2.5, -0.5]])\n",
      "print R\n"
     ],
     "language": "python",
     "metadata": {},
     "outputs": [
      {
       "output_type": "stream",
       "stream": "stdout",
       "text": [
        "[[-4.5  0.   0.5]\n",
        " [ 4.5 -2.5  0. ]\n",
        " [ 0.   2.5 -0.5]]\n"
       ]
      }
     ],
     "prompt_number": 2
    },
    {
     "cell_type": "code",
     "collapsed": false,
     "input": [
      "t=0.25"
     ],
     "language": "python",
     "metadata": {},
     "outputs": [],
     "prompt_number": 3
    },
    {
     "cell_type": "code",
     "collapsed": false,
     "input": [
      "T=linalg.expm2(R*t)\n",
      "print T\n"
     ],
     "language": "python",
     "metadata": {},
     "outputs": [
      {
       "output_type": "stream",
       "stream": "stdout",
       "text": [
        "[[ 0.33169986  0.0213789   0.06997979]\n",
        " [ 0.47589009  0.54320656  0.03848201]\n",
        " [ 0.19241006  0.43541454  0.8915382 ]]\n"
       ]
      }
     ],
     "prompt_number": 4
    },
    {
     "cell_type": "raw",
     "metadata": {},
     "source": [
      "# This was for the earlier parameters, with 1s in the R matrix, and t=...\n",
      "alpha=sqrt(3)/2\n",
      "A=cos(alpha*t)\n",
      "B=cos(alpha*t-2*pi/3)\n",
      "C=cos(alpha*t-4*pi/3)\n",
      "\n",
      "xx1 = 1/3*array([[1, 1, 1], \n",
      "                 [1, 1, 1], \n",
      "                 [1, 1, 1]])\n",
      "xx2 = 2/3*exp(-3/2*t)*array([[A, C, B], \n",
      "                             [B, A, C], \n",
      "                             [C, B, A]])\n",
      "T_analyt = xx1+xx2\n",
      "print allclose(T,T_analyt)"
     ]
    },
    {
     "cell_type": "code",
     "collapsed": false,
     "input": [
      "p0=array([1,0,0])"
     ],
     "language": "python",
     "metadata": {},
     "outputs": [],
     "prompt_number": 5
    },
    {
     "cell_type": "code",
     "collapsed": false,
     "input": [
      "pt=dot(T,p0)\n",
      "print pt"
     ],
     "language": "python",
     "metadata": {},
     "outputs": [
      {
       "output_type": "stream",
       "stream": "stdout",
       "text": [
        "[ 0.33169986  0.47589009  0.19241006]\n"
       ]
      }
     ],
     "prompt_number": 7
    },
    {
     "cell_type": "code",
     "collapsed": false,
     "input": [],
     "language": "python",
     "metadata": {},
     "outputs": []
    }
   ],
   "metadata": {}
  }
 ]
}